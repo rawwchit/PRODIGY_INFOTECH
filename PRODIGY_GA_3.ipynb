{
  "nbformat": 4,
  "nbformat_minor": 0,
  "metadata": {
    "colab": {
      "provenance": []
    },
    "kernelspec": {
      "name": "python3",
      "display_name": "Python 3"
    },
    "language_info": {
      "name": "python"
    }
  },
  "cells": [
    {
      "cell_type": "code",
      "source": [
        "import random\n",
        "\n",
        "# Step 1: Input text\n",
        "text = input(\"Enter the text : \")\n",
        "\n",
        "# Step 2: Create Markov chain (bigrams → next word)\n",
        "def build_markov_chain(text,n):\n",
        "    words = text.split()\n",
        "    chain = {}\n",
        "    for i in range(len(words) - n):\n",
        "        key = tuple(words[i:i+n])  # bigram key (e.g., \"AI is\")\n",
        "        next_word = words[i+n]\n",
        "        if key not in chain:\n",
        "            chain[key] = []\n",
        "        chain[key].append(next_word)\n",
        "    return chain\n",
        "\n",
        "# Step 3: Generate text using the chain\n",
        "def generate_text(chain, length=50):\n",
        "    key = random.choice(list(chain.keys()))\n",
        "    output = list(key)\n",
        "    for _ in range(length):\n",
        "        next_words = chain.get(key)\n",
        "        if not next_words:\n",
        "            break\n",
        "        next_word = random.choice(next_words)\n",
        "        output.append(next_word)\n",
        "        key = tuple(output[-len(key):])  # shift window\n",
        "    return ' '.join(output)\n",
        "\n",
        "# Step 4: Build and generate\n",
        "chain = build_markov_chain(text, n=2)\n",
        "generated_text = generate_text(chain, length=30)\n",
        "\n",
        "print(\"Generated Text:\\n\", generated_text)"
      ],
      "metadata": {
        "colab": {
          "base_uri": "https://localhost:8080/"
        },
        "id": "1XFtnle_hQ0Y",
        "outputId": "4a84c7cf-663b-4e1a-cc00-1af8bd55c5e2"
      },
      "execution_count": 5,
      "outputs": [
        {
          "output_type": "stream",
          "name": "stdout",
          "text": [
            "Enter the text : To be or not to be, that is the question. Whether 'tis nobler in the mind to suffer the slings and arrows...\n",
            "Generated Text:\n",
            " in the mind to suffer the slings and arrows...\n"
          ]
        }
      ]
    }
  ]
}